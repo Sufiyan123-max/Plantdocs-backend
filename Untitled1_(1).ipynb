{
  "nbformat": 4,
  "nbformat_minor": 0,
  "metadata": {
    "colab": {
      "provenance": []
    },
    "kernelspec": {
      "name": "python3",
      "display_name": "Python 3"
    },
    "language_info": {
      "name": "python"
    }
  },
  "cells": [
    {
      "cell_type": "code",
      "execution_count": null,
      "metadata": {
        "id": "qJkeUdMYZ-xp"
      },
      "outputs": [],
      "source": [
        "import torch\n",
        "from torch import nn\n",
        "import random\n",
        "import matplotlib.pyplot as plt"
      ]
    },
    {
      "cell_type": "code",
      "source": [
        "device = \"cuda\" if torch.cuda.is_available() else \"cpu\"\n",
        "device"
      ],
      "metadata": {
        "colab": {
          "base_uri": "https://localhost:8080/",
          "height": 36
        },
        "id": "241QWSZhiPg0",
        "outputId": "5d3a6b43-fd03-4e2c-c519-168deb028216"
      },
      "execution_count": null,
      "outputs": [
        {
          "output_type": "execute_result",
          "data": {
            "text/plain": [
              "'cpu'"
            ],
            "application/vnd.google.colaboratory.intrinsic+json": {
              "type": "string"
            }
          },
          "metadata": {},
          "execution_count": 2
        }
      ]
    },
    {
      "cell_type": "code",
      "source": [
        "scalar = torch.tensor(7)\n",
        "scalar\n",
        "scalar.item()\n",
        "scalar.ndim"
      ],
      "metadata": {
        "colab": {
          "base_uri": "https://localhost:8080/"
        },
        "id": "f6O_oVuOaW-O",
        "outputId": "a3ed6ae5-99a1-4c57-8c09-e0c7d678ed7f"
      },
      "execution_count": null,
      "outputs": [
        {
          "output_type": "execute_result",
          "data": {
            "text/plain": [
              "0"
            ]
          },
          "metadata": {},
          "execution_count": 3
        }
      ]
    },
    {
      "cell_type": "code",
      "source": [
        "vector = torch.tensor([7, 7])\n",
        "vector\n"
      ],
      "metadata": {
        "colab": {
          "base_uri": "https://localhost:8080/"
        },
        "id": "wsLffXGWaXV0",
        "outputId": "a3200e1c-1c27-4cf0-c5e3-69791883378f"
      },
      "execution_count": null,
      "outputs": [
        {
          "output_type": "execute_result",
          "data": {
            "text/plain": [
              "tensor([7, 7])"
            ]
          },
          "metadata": {},
          "execution_count": 4
        }
      ]
    },
    {
      "cell_type": "code",
      "source": [
        "matrix = torch.tensor([[7, 7],\n",
        "                       [7, 7]])\n",
        "matrix\n",
        "matrix.shape"
      ],
      "metadata": {
        "colab": {
          "base_uri": "https://localhost:8080/"
        },
        "id": "E1M5uou0aXZ4",
        "outputId": "61b4303f-087a-4669-9aec-df884e4280db"
      },
      "execution_count": null,
      "outputs": [
        {
          "output_type": "execute_result",
          "data": {
            "text/plain": [
              "torch.Size([2, 2])"
            ]
          },
          "metadata": {},
          "execution_count": 5
        }
      ]
    },
    {
      "cell_type": "code",
      "source": [
        "TENSOR = torch.tensor([[[7, 7],\n",
        "                       [7, 7]]])\n",
        "print(TENSOR)\n",
        "print(TENSOR.ndim)\n",
        "print(TENSOR.shape)\n",
        "print(TENSOR.dtype)"
      ],
      "metadata": {
        "colab": {
          "base_uri": "https://localhost:8080/"
        },
        "id": "uqfGn2LMaXeA",
        "outputId": "9d3cedcb-ccf8-40a2-afd9-3252d6b89c79"
      },
      "execution_count": null,
      "outputs": [
        {
          "output_type": "stream",
          "name": "stdout",
          "text": [
            "tensor([[[7, 7],\n",
            "         [7, 7]]])\n",
            "3\n",
            "torch.Size([1, 2, 2])\n",
            "torch.int64\n"
          ]
        }
      ]
    },
    {
      "cell_type": "code",
      "source": [
        "random_tensor = torch.rand(2,2)\n",
        "random_tensor\n"
      ],
      "metadata": {
        "colab": {
          "base_uri": "https://localhost:8080/"
        },
        "id": "g0gPXy1jaXhI",
        "outputId": "d48fc981-e900-4620-8630-e0162ca0eac2"
      },
      "execution_count": null,
      "outputs": [
        {
          "output_type": "execute_result",
          "data": {
            "text/plain": [
              "tensor([[0.5134, 0.0715],\n",
              "        [0.0316, 0.2115]])"
            ]
          },
          "metadata": {},
          "execution_count": 7
        }
      ]
    },
    {
      "cell_type": "code",
      "source": [
        "random_image = torch.rand(3, 256, 256)\n",
        "random_image"
      ],
      "metadata": {
        "colab": {
          "base_uri": "https://localhost:8080/"
        },
        "id": "1eZlSJ-uaXkg",
        "outputId": "97904d74-f159-44ec-c11d-6500078953b2"
      },
      "execution_count": null,
      "outputs": [
        {
          "output_type": "execute_result",
          "data": {
            "text/plain": [
              "tensor([[[0.8006, 0.5865, 0.3063,  ..., 0.5334, 0.5733, 0.6654],\n",
              "         [0.4477, 0.6847, 0.6152,  ..., 0.1182, 0.0512, 0.8534],\n",
              "         [0.6279, 0.9473, 0.5258,  ..., 0.7670, 0.7653, 0.0271],\n",
              "         ...,\n",
              "         [0.5027, 0.5632, 0.1746,  ..., 0.4259, 0.9398, 0.4957],\n",
              "         [0.2330, 0.7113, 0.2117,  ..., 0.2562, 0.6325, 0.5411],\n",
              "         [0.2788, 0.1852, 0.0464,  ..., 0.1417, 0.6923, 0.5759]],\n",
              "\n",
              "        [[0.0944, 0.0096, 0.3694,  ..., 0.0980, 0.3066, 0.1750],\n",
              "         [0.6165, 0.4953, 0.2372,  ..., 0.7859, 0.0035, 0.5027],\n",
              "         [0.6792, 0.8030, 0.4239,  ..., 0.5117, 0.1470, 0.1691],\n",
              "         ...,\n",
              "         [0.1607, 0.9835, 0.7602,  ..., 0.7586, 0.2040, 0.1590],\n",
              "         [0.7396, 0.9201, 0.6173,  ..., 0.1145, 0.5850, 0.9009],\n",
              "         [0.2602, 0.9105, 0.6133,  ..., 0.8884, 0.5553, 0.2627]],\n",
              "\n",
              "        [[0.4825, 0.3648, 0.7198,  ..., 0.7649, 0.5023, 0.4695],\n",
              "         [0.6115, 0.3223, 0.5712,  ..., 0.6712, 0.1673, 0.6740],\n",
              "         [0.5946, 0.3874, 0.7730,  ..., 0.7458, 0.1928, 0.5541],\n",
              "         ...,\n",
              "         [0.9992, 0.2843, 0.0073,  ..., 0.8830, 0.0422, 0.2971],\n",
              "         [0.8984, 0.1897, 0.5750,  ..., 0.5802, 0.4152, 0.4088],\n",
              "         [0.9218, 0.4938, 0.9012,  ..., 0.2389, 0.7440, 0.7163]]])"
            ]
          },
          "metadata": {},
          "execution_count": 8
        }
      ]
    },
    {
      "cell_type": "code",
      "source": [
        "zero_tensor = torch.zeros(3, 3)\n",
        "zero_tensor"
      ],
      "metadata": {
        "colab": {
          "base_uri": "https://localhost:8080/"
        },
        "id": "--bmwTrGaXn2",
        "outputId": "2792bc9d-f28e-45a1-eafa-f1be904fbab4"
      },
      "execution_count": null,
      "outputs": [
        {
          "output_type": "execute_result",
          "data": {
            "text/plain": [
              "tensor([[0., 0., 0.],\n",
              "        [0., 0., 0.],\n",
              "        [0., 0., 0.]])"
            ]
          },
          "metadata": {},
          "execution_count": 9
        }
      ]
    },
    {
      "cell_type": "code",
      "source": [
        "one_tensor = torch.ones(3, 3)\n",
        "one_tensor"
      ],
      "metadata": {
        "colab": {
          "base_uri": "https://localhost:8080/"
        },
        "id": "3fQ5cJzzaXq6",
        "outputId": "dc6b2760-6ba0-45fb-f9c6-70c958b26500"
      },
      "execution_count": null,
      "outputs": [
        {
          "output_type": "execute_result",
          "data": {
            "text/plain": [
              "tensor([[1., 1., 1.],\n",
              "        [1., 1., 1.],\n",
              "        [1., 1., 1.]])"
            ]
          },
          "metadata": {},
          "execution_count": 10
        }
      ]
    },
    {
      "cell_type": "code",
      "source": [
        "zero_like_tensor = torch.zeros_like(random_image)\n",
        "zero_like_tensor.shape"
      ],
      "metadata": {
        "colab": {
          "base_uri": "https://localhost:8080/"
        },
        "id": "0WFTMi8maXuK",
        "outputId": "7806612d-5cac-48b0-c2ed-36f542776b78"
      },
      "execution_count": null,
      "outputs": [
        {
          "output_type": "execute_result",
          "data": {
            "text/plain": [
              "torch.Size([3, 256, 256])"
            ]
          },
          "metadata": {},
          "execution_count": 11
        }
      ]
    },
    {
      "cell_type": "code",
      "source": [
        "rand_like_tensor = torch.rand_like(zero_like_tensor)\n",
        "rand_like_tensor"
      ],
      "metadata": {
        "colab": {
          "base_uri": "https://localhost:8080/"
        },
        "id": "P_hD39s0aXz5",
        "outputId": "813856e8-4a46-480f-9d0c-d5f4dce2c793"
      },
      "execution_count": null,
      "outputs": [
        {
          "output_type": "execute_result",
          "data": {
            "text/plain": [
              "tensor([[[0.4126, 0.2478, 0.2420,  ..., 0.8385, 0.3414, 0.3835],\n",
              "         [0.1114, 0.3352, 0.1803,  ..., 0.7692, 0.9209, 0.6413],\n",
              "         [0.1637, 0.7363, 0.4828,  ..., 0.7591, 0.6226, 0.3429],\n",
              "         ...,\n",
              "         [0.2085, 0.4303, 0.0524,  ..., 0.9064, 0.4730, 0.9406],\n",
              "         [0.6421, 0.3150, 0.0480,  ..., 0.3081, 0.6699, 0.3406],\n",
              "         [0.4629, 0.4456, 0.6897,  ..., 0.3143, 0.3093, 0.5729]],\n",
              "\n",
              "        [[0.8894, 0.2014, 0.1300,  ..., 0.1106, 0.4530, 0.4895],\n",
              "         [0.5307, 0.9859, 0.3789,  ..., 0.5305, 0.3459, 0.1103],\n",
              "         [0.1447, 0.4406, 0.2731,  ..., 0.1155, 0.1524, 0.9416],\n",
              "         ...,\n",
              "         [0.2084, 0.4462, 0.9725,  ..., 0.7694, 0.3621, 0.0492],\n",
              "         [0.2117, 0.6145, 0.2350,  ..., 0.6793, 0.6325, 0.0715],\n",
              "         [0.7711, 0.0682, 0.9122,  ..., 0.1433, 0.5016, 0.3653]],\n",
              "\n",
              "        [[0.8408, 0.2188, 0.3718,  ..., 0.2920, 0.7804, 0.9379],\n",
              "         [0.1695, 0.9442, 0.2124,  ..., 0.2660, 0.1956, 0.7379],\n",
              "         [0.1273, 0.8320, 0.8038,  ..., 0.7752, 0.5134, 0.3085],\n",
              "         ...,\n",
              "         [0.6805, 0.9487, 0.9096,  ..., 0.3191, 0.0196, 0.3931],\n",
              "         [0.4132, 0.9328, 0.6199,  ..., 0.0988, 0.5240, 0.2814],\n",
              "         [0.9047, 0.0547, 0.9921,  ..., 0.3937, 0.2146, 0.3996]]])"
            ]
          },
          "metadata": {},
          "execution_count": 12
        }
      ]
    },
    {
      "cell_type": "code",
      "source": [
        "random_tensor.to(device)"
      ],
      "metadata": {
        "colab": {
          "base_uri": "https://localhost:8080/"
        },
        "id": "rNzYHMonaX27",
        "outputId": "2f4ad0db-b851-4875-f495-a7ecdab153ca"
      },
      "execution_count": null,
      "outputs": [
        {
          "output_type": "execute_result",
          "data": {
            "text/plain": [
              "tensor([[0.5134, 0.0715],\n",
              "        [0.0316, 0.2115]], device='cuda:0')"
            ]
          },
          "metadata": {},
          "execution_count": 13
        }
      ]
    },
    {
      "cell_type": "code",
      "source": [
        "random_tensor.cpu()"
      ],
      "metadata": {
        "colab": {
          "base_uri": "https://localhost:8080/"
        },
        "id": "C2YAPsxUaX6d",
        "outputId": "e8bb74b7-4f7c-44fd-e292-d200b9a58b2b"
      },
      "execution_count": null,
      "outputs": [
        {
          "output_type": "execute_result",
          "data": {
            "text/plain": [
              "tensor([[0.5134, 0.0715],\n",
              "        [0.0316, 0.2115]])"
            ]
          },
          "metadata": {},
          "execution_count": 14
        }
      ]
    },
    {
      "cell_type": "code",
      "source": [
        "r1 = torch.rand(3,2)\n",
        "r2 = torch.rand(3,2)"
      ],
      "metadata": {
        "id": "ay_zc6NtaX-C"
      },
      "execution_count": null,
      "outputs": []
    },
    {
      "cell_type": "code",
      "source": [
        "torch.matmul(r1, r2)"
      ],
      "metadata": {
        "colab": {
          "base_uri": "https://localhost:8080/",
          "height": 141
        },
        "id": "vDauWzcojtv4",
        "outputId": "1049d5fe-24f7-4d96-c6fb-0b67ae41469a"
      },
      "execution_count": null,
      "outputs": [
        {
          "output_type": "error",
          "ename": "RuntimeError",
          "evalue": "mat1 and mat2 shapes cannot be multiplied (3x2 and 3x2)",
          "traceback": [
            "\u001b[0;31m---------------------------------------------------------------------------\u001b[0m",
            "\u001b[0;31mRuntimeError\u001b[0m                              Traceback (most recent call last)",
            "\u001b[0;32m/tmp/ipython-input-2871919188.py\u001b[0m in \u001b[0;36m<cell line: 0>\u001b[0;34m()\u001b[0m\n\u001b[0;32m----> 1\u001b[0;31m \u001b[0mtorch\u001b[0m\u001b[0;34m.\u001b[0m\u001b[0mmatmul\u001b[0m\u001b[0;34m(\u001b[0m\u001b[0mr1\u001b[0m\u001b[0;34m,\u001b[0m \u001b[0mr2\u001b[0m\u001b[0;34m)\u001b[0m\u001b[0;34m\u001b[0m\u001b[0;34m\u001b[0m\u001b[0m\n\u001b[0m",
            "\u001b[0;31mRuntimeError\u001b[0m: mat1 and mat2 shapes cannot be multiplied (3x2 and 3x2)"
          ]
        }
      ]
    },
    {
      "cell_type": "code",
      "source": [
        "r1.T.shape"
      ],
      "metadata": {
        "colab": {
          "base_uri": "https://localhost:8080/"
        },
        "id": "M-rsHXzKkIvW",
        "outputId": "f754705f-d76e-497f-d217-d8dc4bbb9592"
      },
      "execution_count": null,
      "outputs": [
        {
          "output_type": "execute_result",
          "data": {
            "text/plain": [
              "torch.Size([2, 3])"
            ]
          },
          "metadata": {},
          "execution_count": 17
        }
      ]
    },
    {
      "cell_type": "code",
      "source": [
        "torch.matmul(r1, r2.T)"
      ],
      "metadata": {
        "colab": {
          "base_uri": "https://localhost:8080/"
        },
        "id": "nkaGJVUCkIs1",
        "outputId": "e86847ca-7dae-4dba-dc0c-903e19e32163"
      },
      "execution_count": null,
      "outputs": [
        {
          "output_type": "execute_result",
          "data": {
            "text/plain": [
              "tensor([[0.6073, 0.5667, 0.6966],\n",
              "        [0.4997, 0.4541, 0.6080],\n",
              "        [0.5478, 0.5344, 0.5627]])"
            ]
          },
          "metadata": {},
          "execution_count": 18
        }
      ]
    },
    {
      "cell_type": "code",
      "source": [
        "X = torch.arange(0,101, 10)\n",
        "X"
      ],
      "metadata": {
        "colab": {
          "base_uri": "https://localhost:8080/"
        },
        "id": "4Y3HnFqokIqb",
        "outputId": "ccf7d5dd-17e7-415f-aef4-d851fff2690f"
      },
      "execution_count": null,
      "outputs": [
        {
          "output_type": "execute_result",
          "data": {
            "text/plain": [
              "tensor([  0,  10,  20,  30,  40,  50,  60,  70,  80,  90, 100])"
            ]
          },
          "metadata": {},
          "execution_count": 19
        }
      ]
    },
    {
      "cell_type": "code",
      "source": [
        "X.min(), torch.min(X)"
      ],
      "metadata": {
        "colab": {
          "base_uri": "https://localhost:8080/"
        },
        "id": "GVsxakr0kIoY",
        "outputId": "d7c1d4ec-23c2-49fc-af14-c10151d45130"
      },
      "execution_count": null,
      "outputs": [
        {
          "output_type": "execute_result",
          "data": {
            "text/plain": [
              "(tensor(0), tensor(0))"
            ]
          },
          "metadata": {},
          "execution_count": 20
        }
      ]
    },
    {
      "cell_type": "code",
      "source": [
        "X.max(), torch.max(X)"
      ],
      "metadata": {
        "colab": {
          "base_uri": "https://localhost:8080/"
        },
        "id": "-xZRqiyEkImA",
        "outputId": "00cd20d8-562a-4c07-c32e-54a8092002d7"
      },
      "execution_count": null,
      "outputs": [
        {
          "output_type": "execute_result",
          "data": {
            "text/plain": [
              "(tensor(100), tensor(100))"
            ]
          },
          "metadata": {},
          "execution_count": 22
        }
      ]
    },
    {
      "cell_type": "code",
      "source": [
        "X.sum()"
      ],
      "metadata": {
        "colab": {
          "base_uri": "https://localhost:8080/"
        },
        "id": "JVlaQ2ijkIj-",
        "outputId": "83a119ab-4f66-4d86-91dc-b63bff692b5a"
      },
      "execution_count": null,
      "outputs": [
        {
          "output_type": "execute_result",
          "data": {
            "text/plain": [
              "tensor(550)"
            ]
          },
          "metadata": {},
          "execution_count": 23
        }
      ]
    },
    {
      "cell_type": "code",
      "source": [
        "X.argmin(), X.argmax()"
      ],
      "metadata": {
        "colab": {
          "base_uri": "https://localhost:8080/"
        },
        "id": "6sGoIjrXkIhe",
        "outputId": "8f6996ed-19a4-47fd-89fa-9adb928a9757"
      },
      "execution_count": null,
      "outputs": [
        {
          "output_type": "execute_result",
          "data": {
            "text/plain": [
              "(tensor(0), tensor(10))"
            ]
          },
          "metadata": {},
          "execution_count": 24
        }
      ]
    },
    {
      "cell_type": "code",
      "source": [
        "#Reshaping, Stacking, Squeezing, Unsqeezing"
      ],
      "metadata": {
        "id": "ScOXDETwkoPZ"
      },
      "execution_count": null,
      "outputs": []
    },
    {
      "cell_type": "code",
      "source": [
        "tensor = torch.arange(1., 19.)\n",
        "tensor"
      ],
      "metadata": {
        "colab": {
          "base_uri": "https://localhost:8080/"
        },
        "id": "ShR8jn6rkoNW",
        "outputId": "8e0f88dd-8fa8-4428-fc55-3c8e61bd93e4"
      },
      "execution_count": null,
      "outputs": [
        {
          "output_type": "execute_result",
          "data": {
            "text/plain": [
              "tensor([ 1.,  2.,  3.,  4.,  5.,  6.,  7.,  8.,  9., 10., 11., 12., 13., 14.,\n",
              "        15., 16., 17., 18.])"
            ]
          },
          "metadata": {},
          "execution_count": 25
        }
      ]
    },
    {
      "cell_type": "code",
      "source": [
        "tensor_reshaped = torch.reshape(tensor, (3,3,2))\n",
        "tensor_reshaped"
      ],
      "metadata": {
        "colab": {
          "base_uri": "https://localhost:8080/"
        },
        "id": "aafra5vykoK5",
        "outputId": "92f28760-55ec-46df-f4aa-c5e40334fb94"
      },
      "execution_count": null,
      "outputs": [
        {
          "output_type": "execute_result",
          "data": {
            "text/plain": [
              "tensor([[[ 1.,  2.],\n",
              "         [ 3.,  4.],\n",
              "         [ 5.,  6.]],\n",
              "\n",
              "        [[ 7.,  8.],\n",
              "         [ 9., 10.],\n",
              "         [11., 12.]],\n",
              "\n",
              "        [[13., 14.],\n",
              "         [15., 16.],\n",
              "         [17., 18.]]])"
            ]
          },
          "metadata": {},
          "execution_count": 27
        }
      ]
    },
    {
      "cell_type": "code",
      "source": [
        "\n",
        "print(tensor_reshaped.shape, tensor_reshaped.dtype)\n",
        "\n",
        "tensor_stack = torch.stack(([tensor_reshaped,rand_like_tensor, rand_like_tensor, tensor_reshaped]))\n",
        "tensor_stack"
      ],
      "metadata": {
        "colab": {
          "base_uri": "https://localhost:8080/",
          "height": 211
        },
        "id": "JONNq9pbkoJO",
        "outputId": "8088268a-6ad4-4835-bf37-a89ea6e34983"
      },
      "execution_count": null,
      "outputs": [
        {
          "output_type": "stream",
          "name": "stdout",
          "text": [
            "torch.Size([3, 3, 2]) torch.float32\n"
          ]
        },
        {
          "output_type": "error",
          "ename": "RuntimeError",
          "evalue": "stack expects each tensor to be equal size, but got [3, 3, 2] at entry 0 and [3, 256, 256] at entry 1",
          "traceback": [
            "\u001b[0;31m---------------------------------------------------------------------------\u001b[0m",
            "\u001b[0;31mRuntimeError\u001b[0m                              Traceback (most recent call last)",
            "\u001b[0;32m/tmp/ipython-input-4095069285.py\u001b[0m in \u001b[0;36m<cell line: 0>\u001b[0;34m()\u001b[0m\n\u001b[1;32m      1\u001b[0m \u001b[0mprint\u001b[0m\u001b[0;34m(\u001b[0m\u001b[0mtensor_reshaped\u001b[0m\u001b[0;34m.\u001b[0m\u001b[0mshape\u001b[0m\u001b[0;34m,\u001b[0m \u001b[0mtensor_reshaped\u001b[0m\u001b[0;34m.\u001b[0m\u001b[0mdtype\u001b[0m\u001b[0;34m)\u001b[0m\u001b[0;34m\u001b[0m\u001b[0;34m\u001b[0m\u001b[0m\n\u001b[1;32m      2\u001b[0m \u001b[0;34m\u001b[0m\u001b[0m\n\u001b[0;32m----> 3\u001b[0;31m \u001b[0mtensor_stack\u001b[0m \u001b[0;34m=\u001b[0m \u001b[0mtorch\u001b[0m\u001b[0;34m.\u001b[0m\u001b[0mstack\u001b[0m\u001b[0;34m(\u001b[0m\u001b[0;34m(\u001b[0m\u001b[0;34m[\u001b[0m\u001b[0mtensor_reshaped\u001b[0m\u001b[0;34m,\u001b[0m\u001b[0mrand_like_tensor\u001b[0m\u001b[0;34m,\u001b[0m \u001b[0mrand_like_tensor\u001b[0m\u001b[0;34m,\u001b[0m \u001b[0mtensor_reshaped\u001b[0m\u001b[0;34m]\u001b[0m\u001b[0;34m)\u001b[0m\u001b[0;34m)\u001b[0m\u001b[0;34m\u001b[0m\u001b[0;34m\u001b[0m\u001b[0m\n\u001b[0m\u001b[1;32m      4\u001b[0m \u001b[0mtensor_stack\u001b[0m\u001b[0;34m\u001b[0m\u001b[0;34m\u001b[0m\u001b[0m\n",
            "\u001b[0;31mRuntimeError\u001b[0m: stack expects each tensor to be equal size, but got [3, 3, 2] at entry 0 and [3, 256, 256] at entry 1"
          ]
        }
      ]
    },
    {
      "cell_type": "code",
      "source": [
        "rand_like_tensor = torch.rand_like(tensor_reshaped, dtype=torch.float32)"
      ],
      "metadata": {
        "id": "RO39qVdikoGd"
      },
      "execution_count": null,
      "outputs": []
    },
    {
      "cell_type": "code",
      "source": [
        "tensor = torch.arange(1., 10.)\n",
        "tensor"
      ],
      "metadata": {
        "colab": {
          "base_uri": "https://localhost:8080/"
        },
        "id": "FJJDkmBMkoEC",
        "outputId": "53883e3d-1061-49e9-8542-21a55e0605b3"
      },
      "execution_count": null,
      "outputs": [
        {
          "output_type": "execute_result",
          "data": {
            "text/plain": [
              "tensor([1., 2., 3., 4., 5., 6., 7., 8., 9.])"
            ]
          },
          "metadata": {},
          "execution_count": 31
        }
      ]
    },
    {
      "cell_type": "code",
      "source": [
        "tensor_reshaped = torch.reshape(tensor, (1, 3, 3))\n",
        "tensor_reshaped"
      ],
      "metadata": {
        "colab": {
          "base_uri": "https://localhost:8080/"
        },
        "id": "fUOvDn8JkoB3",
        "outputId": "a41a7403-4109-42af-f909-0ece315f8cf7"
      },
      "execution_count": null,
      "outputs": [
        {
          "output_type": "execute_result",
          "data": {
            "text/plain": [
              "tensor([[[1., 2., 3.],\n",
              "         [4., 5., 6.],\n",
              "         [7., 8., 9.]]])"
            ]
          },
          "metadata": {},
          "execution_count": 32
        }
      ]
    },
    {
      "cell_type": "code",
      "source": [
        "tensor_squeeze = torch.squeeze(tensor_reshaped, 0)\n",
        "tensor_squeeze"
      ],
      "metadata": {
        "colab": {
          "base_uri": "https://localhost:8080/"
        },
        "id": "uZ9b0r-Lkn_o",
        "outputId": "618feb39-52e9-42e6-d72d-bb1fa262520b"
      },
      "execution_count": null,
      "outputs": [
        {
          "output_type": "execute_result",
          "data": {
            "text/plain": [
              "tensor([[1., 2., 3.],\n",
              "        [4., 5., 6.],\n",
              "        [7., 8., 9.]])"
            ]
          },
          "metadata": {},
          "execution_count": 33
        }
      ]
    },
    {
      "cell_type": "code",
      "source": [
        "tensor_unsqueeze = torch.unsqueeze(tensor_squeeze, 0)\n",
        "tensor_unsqueeze"
      ],
      "metadata": {
        "colab": {
          "base_uri": "https://localhost:8080/"
        },
        "id": "S1XHTPsEkn9R",
        "outputId": "dde0b43b-0f20-4963-a6f7-5b4ba6b276e2"
      },
      "execution_count": null,
      "outputs": [
        {
          "output_type": "execute_result",
          "data": {
            "text/plain": [
              "tensor([[[1., 2., 3.],\n",
              "         [4., 5., 6.],\n",
              "         [7., 8., 9.]]])"
            ]
          },
          "metadata": {},
          "execution_count": 34
        }
      ]
    },
    {
      "cell_type": "code",
      "source": [
        "import random"
      ],
      "metadata": {
        "id": "zkgVj21Bkn6w"
      },
      "execution_count": null,
      "outputs": []
    },
    {
      "cell_type": "code",
      "source": [
        "RANDOM_SEED = 42\n",
        "\n",
        "\n",
        "torch.manual_seed(RANDOM_SEED)\n",
        "tensor1 = torch.rand(3,3)\n",
        "torch.manual_seed(RANDOM_SEED)\n",
        "tensor2 = torch.rand(3,3)\n",
        "print(tensor1)\n",
        "print(tensor2)\n",
        "print(tensor1==tensor2)"
      ],
      "metadata": {
        "colab": {
          "base_uri": "https://localhost:8080/"
        },
        "id": "8lUG7zIKqFxH",
        "outputId": "feb43bdb-2f9a-4a85-d3a5-cd6aefe4db0b"
      },
      "execution_count": null,
      "outputs": [
        {
          "output_type": "stream",
          "name": "stdout",
          "text": [
            "tensor([[0.8823, 0.9150, 0.3829],\n",
            "        [0.9593, 0.3904, 0.6009],\n",
            "        [0.2566, 0.7936, 0.9408]])\n",
            "tensor([[0.8823, 0.9150, 0.3829],\n",
            "        [0.9593, 0.3904, 0.6009],\n",
            "        [0.2566, 0.7936, 0.9408]])\n",
            "tensor([[True, True, True],\n",
            "        [True, True, True],\n",
            "        [True, True, True]])\n"
          ]
        }
      ]
    },
    {
      "cell_type": "code",
      "source": [
        "torch.manual_seed(RANDOM_SEED)\n",
        "tensor3 = torch.rand(3,3)\n",
        "\n",
        "print(tensor2 == tensor3)"
      ],
      "metadata": {
        "colab": {
          "base_uri": "https://localhost:8080/"
        },
        "id": "oQwTxrmPqFus",
        "outputId": "e58b400c-0409-4626-fdb1-e0887f828d2f"
      },
      "execution_count": null,
      "outputs": [
        {
          "output_type": "stream",
          "name": "stdout",
          "text": [
            "tensor([[True, True, True],\n",
            "        [True, True, True],\n",
            "        [True, True, True]])\n"
          ]
        }
      ]
    },
    {
      "cell_type": "code",
      "source": [],
      "metadata": {
        "id": "4j3Q5k1HqFsw"
      },
      "execution_count": null,
      "outputs": []
    },
    {
      "cell_type": "code",
      "source": [
        "# Picking some loss function.\n",
        "# Picking some optimizer.\n",
        "# Builidng a training loop.\n",
        "# Ploting our prediction.\n",
        "# Looking at the loss curve."
      ],
      "metadata": {
        "id": "TK1HUQ9xqFqF"
      },
      "execution_count": null,
      "outputs": []
    },
    {
      "cell_type": "code",
      "source": [
        "weight = 0.5 #slope\n",
        "bias = 0.3 #intercept\n",
        "# Y = mX + c"
      ],
      "metadata": {
        "id": "ri0zcBEnqFn5"
      },
      "execution_count": null,
      "outputs": []
    },
    {
      "cell_type": "code",
      "source": [
        "X = torch.arange(0, 1, 0.02)\n",
        "y = weight * X + bias\n",
        "print(X[:10])\n",
        "print(y[:10])"
      ],
      "metadata": {
        "colab": {
          "base_uri": "https://localhost:8080/"
        },
        "id": "bQVtOh4sqFlq",
        "outputId": "770a9cf2-e340-4749-abb4-3ec3a0ff57a0"
      },
      "execution_count": null,
      "outputs": [
        {
          "output_type": "stream",
          "name": "stdout",
          "text": [
            "tensor([0.0000, 0.0200, 0.0400, 0.0600, 0.0800, 0.1000, 0.1200, 0.1400, 0.1600,\n",
            "        0.1800])\n",
            "tensor([0.3000, 0.3100, 0.3200, 0.3300, 0.3400, 0.3500, 0.3600, 0.3700, 0.3800,\n",
            "        0.3900])\n"
          ]
        }
      ]
    },
    {
      "cell_type": "code",
      "source": [
        "train_split = int(0.8 * len(X))\n",
        "X_train, y_train = X[:train_split], y[:train_split]\n",
        "X_test, y_test = X[train_split:], y[train_split:]\n",
        "\n",
        "type(X_train)"
      ],
      "metadata": {
        "colab": {
          "base_uri": "https://localhost:8080/"
        },
        "id": "75Fik3xoqFjf",
        "outputId": "0bba6890-c1ef-4ef3-f31b-086a0415ac3d"
      },
      "execution_count": null,
      "outputs": [
        {
          "output_type": "execute_result",
          "data": {
            "text/plain": [
              "torch.Tensor"
            ]
          },
          "metadata": {},
          "execution_count": 5
        }
      ]
    },
    {
      "cell_type": "code",
      "source": [
        "plt.scatter(X_train, y_train, c=\"g\")\n",
        "plt.scatter(X_test, y_test, c=\"b\")\n"
      ],
      "metadata": {
        "colab": {
          "base_uri": "https://localhost:8080/",
          "height": 447
        },
        "id": "18P9W1z3qFg-",
        "outputId": "e6ad8617-3e71-4cea-be94-09c31e6f6214"
      },
      "execution_count": null,
      "outputs": [
        {
          "output_type": "execute_result",
          "data": {
            "text/plain": [
              "<matplotlib.collections.PathCollection at 0x797241926780>"
            ]
          },
          "metadata": {},
          "execution_count": 6
        },
        {
          "output_type": "display_data",
          "data": {
            "text/plain": [
              "<Figure size 640x480 with 1 Axes>"
            ],
            "image/png": "[encoded data removed]"
          },
          "metadata": {}
        }
      ]
    },
    {
      "cell_type": "code",
      "source": [
        "class FirstModel(nn.Module):\n",
        "  def __init__(self):\n",
        "    super().__init__()\n",
        "\n",
        "    self.weight = nn.Parameter(torch.randn(1, requires_grad=True, dtype=torch.float))\n",
        "    self.bias = nn.Parameter(torch.randn(1, requires_grad=True, dtype=torch.float))\n",
        "\n",
        "  def forward(self, x: torch.Tensor) -> torch.Tensor:\n",
        "    return (self.weight * x) + self.bias"
      ],
      "metadata": {
        "id": "JrOMxsavqFeo"
      },
      "execution_count": null,
      "outputs": []
    },
    {
      "cell_type": "code",
      "source": [
        "torch.manual_seed(42)\n",
        "model = FirstModel()\n",
        "print(model.state_dict())"
      ],
      "metadata": {
        "colab": {
          "base_uri": "https://localhost:8080/"
        },
        "id": "NBhCZk3tqFbu",
        "outputId": "a56b86f9-73cc-44ca-92cc-2a823dcbecea"
      },
      "execution_count": null,
      "outputs": [
        {
          "output_type": "stream",
          "name": "stdout",
          "text": [
            "OrderedDict({'weight': tensor([0.3367]), 'bias': tensor([0.1288])})\n"
          ]
        }
      ]
    },
    {
      "cell_type": "code",
      "source": [
        "with torch.inference_mode():\n",
        "  y_preds = model(X_test)\n",
        "y_preds"
      ],
      "metadata": {
        "colab": {
          "base_uri": "https://localhost:8080/"
        },
        "id": "S_EGnds1knfN",
        "outputId": "0fe1a823-5aa8-484b-db05-a075427f6012"
      },
      "execution_count": null,
      "outputs": [
        {
          "output_type": "execute_result",
          "data": {
            "text/plain": [
              "tensor([0.3982, 0.4049, 0.4116, 0.4184, 0.4251, 0.4318, 0.4386, 0.4453, 0.4520,\n",
              "        0.4588])"
            ]
          },
          "metadata": {},
          "execution_count": 9
        }
      ]
    },
    {
      "cell_type": "code",
      "source": [
        "plt.scatter(X_train, y_train, c=\"g\")\n",
        "plt.scatter(X_test, y_test, c=\"b\")\n",
        "plt.scatter(X_test, y_preds)"
      ],
      "metadata": {
        "colab": {
          "base_uri": "https://localhost:8080/",
          "height": 447
        },
        "id": "NSwsxNQtzrRJ",
        "outputId": "d3a2e6e0-52f7-4954-ddd5-a9628d80de42"
      },
      "execution_count": null,
      "outputs": [
        {
          "output_type": "execute_result",
          "data": {
            "text/plain": [
              "<matplotlib.collections.PathCollection at 0x7972419c0f80>"
            ]
          },
          "metadata": {},
          "execution_count": 10
        },
        {
          "output_type": "display_data",
          "data": {
            "text/plain": [
              "<Figure size 640x480 with 1 Axes>"
            ],
            "image/png": "[encoded data removed]"
          },
          "metadata": {}
        }
      ]
    },
    {
      "cell_type": "code",
      "source": [
        "loss_fn = nn.L1Loss()\n",
        "optimizer = torch.optim.SGD(model.parameters(), lr=0.001)"
      ],
      "metadata": {
        "id": "ibixjzCDzrwn"
      },
      "execution_count": null,
      "outputs": []
    },
    {
      "cell_type": "code",
      "source": [
        "# Build a training loop"
      ],
      "metadata": {
        "id": "33R77hebzr27"
      },
      "execution_count": null,
      "outputs": []
    },
    {
      "cell_type": "code",
      "source": [
        "torch.manual_seed(42)\n",
        "\n",
        "EPOCHS = 100\n",
        "\n",
        "for epoch in range(EPOCHS):\n",
        "  model.train()\n",
        "\n",
        "  y_pred = model(X_train)\n",
        "\n",
        "  loss = loss_fn(y_pred, y_train)\n",
        "\n",
        "  optimizer.zero_grad()\n",
        "\n",
        "  loss.backward()\n",
        "\n",
        "  optimizer.step()\n",
        "\n",
        "  model.eval()\n",
        "\n",
        "  with torch.inference_mode():\n",
        "    test_pred = model(X_test)\n",
        "    test_loss = loss_fn(test_pred, y_test)\n",
        "\n",
        "    if epoch % 10 == 0:\n",
        "      print(loss, test_loss)\n"
      ],
      "metadata": {
        "colab": {
          "base_uri": "https://localhost:8080/"
        },
        "id": "BWVl3wBdzr7r",
        "outputId": "72b0c60f-af53-48b2-92f0-c1186190cc75"
      },
      "execution_count": null,
      "outputs": [
        {
          "output_type": "stream",
          "name": "stdout",
          "text": [
            "tensor(0.0083, grad_fn=<MeanBackward0>) tensor(0.0103)\n",
            "tensor(0.0007, grad_fn=<MeanBackward0>) tensor(0.0014)\n",
            "tensor(0.0003, grad_fn=<MeanBackward0>) tensor(0.0007)\n",
            "tensor(0.0005, grad_fn=<MeanBackward0>) tensor(0.0011)\n",
            "tensor(0.0005, grad_fn=<MeanBackward0>) tensor(0.0011)\n",
            "tensor(0.0005, grad_fn=<MeanBackward0>) tensor(0.0011)\n",
            "tensor(0.0005, grad_fn=<MeanBackward0>) tensor(0.0011)\n",
            "tensor(0.0005, grad_fn=<MeanBackward0>) tensor(0.0011)\n",
            "tensor(0.0005, grad_fn=<MeanBackward0>) tensor(0.0011)\n",
            "tensor(0.0005, grad_fn=<MeanBackward0>) tensor(0.0011)\n"
          ]
        }
      ]
    },
    {
      "cell_type": "code",
      "source": [
        "with torch.inference_mode():\n",
        "  y_preds = model(X_test)\n",
        "y_preds"
      ],
      "metadata": {
        "colab": {
          "base_uri": "https://localhost:8080/"
        },
        "id": "TCubwAcPzr_z",
        "outputId": "6943005b-d845-43af-9130-b289be177d19"
      },
      "execution_count": null,
      "outputs": [
        {
          "output_type": "execute_result",
          "data": {
            "text/plain": [
              "tensor([0.7003, 0.7103, 0.7203, 0.7303, 0.7403, 0.7502, 0.7602, 0.7702, 0.7802,\n",
              "        0.7902])"
            ]
          },
          "metadata": {},
          "execution_count": 16
        }
      ]
    },
    {
      "cell_type": "code",
      "source": [
        "plt.scatter(X_train, y_train, c=\"g\")\n",
        "plt.scatter(X_test, y_test, c=\"b\")\n",
        "plt.scatter(X_test, y_preds)"
      ],
      "metadata": {
        "colab": {
          "base_uri": "https://localhost:8080/",
          "height": 447
        },
        "id": "vvybneGkzsD9",
        "outputId": "aa381b58-2068-4d4d-d4c5-5f3f43032715"
      },
      "execution_count": null,
      "outputs": [
        {
          "output_type": "execute_result",
          "data": {
            "text/plain": [
              "<matplotlib.collections.PathCollection at 0x7972352a0830>"
            ]
          },
          "metadata": {},
          "execution_count": 17
        },
        {
          "output_type": "display_data",
          "data": {
            "text/plain": [
              "<Figure size 640x480 with 1 Axes>"
            ],
            "image/png": "[encoded data removed]"
          },
          "metadata": {}
        }
      ]
    },
    {
      "cell_type": "code",
      "source": [
        "model.state_dict()"
      ],
      "metadata": {
        "colab": {
          "base_uri": "https://localhost:8080/"
        },
        "id": "OPM9Twn6zsIA",
        "outputId": "f0e56e82-c783-467f-c547-53a139662787"
      },
      "execution_count": null,
      "outputs": [
        {
          "output_type": "execute_result",
          "data": {
            "text/plain": [
              "OrderedDict([('weight', tensor([0.4996])), ('bias', tensor([0.3006]))])"
            ]
          },
          "metadata": {},
          "execution_count": 18
        }
      ]
    },
    {
      "cell_type": "code",
      "source": [
        "# save()\n",
        "# load()\n",
        "# state_dict()\n",
        "# load_state_dict()"
      ],
      "metadata": {
        "id": "4wdofwCGzsMK"
      },
      "execution_count": null,
      "outputs": []
    },
    {
      "cell_type": "code",
      "source": [
        "class FirstModel(nn.Module):\n",
        "  def __init__(self):\n",
        "    super().__init__()\n",
        "\n",
        "    self.weight = nn.Parameter(torch.randn(1, requires_grad=True, dtype=torch.float))\n",
        "    self.bias = nn.Parameter(torch.randn(1, requires_grad=True, dtype=torch.float))\n",
        "\n",
        "  def forward(self, x: torch.Tensor) -> torch.Tensor:\n",
        "    return (self.weight * x) + self.bias"
      ],
      "metadata": {
        "id": "MKvVXPjyzsPg"
      },
      "execution_count": null,
      "outputs": []
    },
    {
      "cell_type": "code",
      "source": [
        "from pathlib import Path"
      ],
      "metadata": {
        "id": "BQtw5zpMzsTS"
      },
      "execution_count": null,
      "outputs": []
    },
    {
      "cell_type": "code",
      "source": [
        "model_path = Path(\"models\")\n",
        "model_path.mkdir(parents=True, exist_ok=True)"
      ],
      "metadata": {
        "id": "poK1l6O7zsXU"
      },
      "execution_count": null,
      "outputs": []
    },
    {
      "cell_type": "code",
      "source": [
        "model_name = \"lrmodel_1.pth\"\n",
        "model_save_path = model_path / model_name\n",
        "torch.save(model.state_dict(), model_save_path)"
      ],
      "metadata": {
        "id": "Rlg6wBFszsa1"
      },
      "execution_count": null,
      "outputs": []
    },
    {
      "cell_type": "code",
      "source": [
        "loaded_model = FirstModel()"
      ],
      "metadata": {
        "id": "dSz7D9RWzseW"
      },
      "execution_count": null,
      "outputs": []
    },
    {
      "cell_type": "code",
      "source": [
        "loaded_model.load_state_dict(torch.load(model_save_path))"
      ],
      "metadata": {
        "id": "H1cAO1z0zshw",
        "colab": {
          "base_uri": "https://localhost:8080/"
        },
        "outputId": "92707cfc-b3fa-403e-9617-2cd8bcffddc5"
      },
      "execution_count": null,
      "outputs": [
        {
          "output_type": "execute_result",
          "data": {
            "text/plain": [
              "<All keys matched successfully>"
            ]
          },
          "metadata": {},
          "execution_count": 23
        }
      ]
    },
    {
      "cell_type": "code",
      "source": [
        "model.state_dict(), loaded_model.state_dict()"
      ],
      "metadata": {
        "colab": {
          "base_uri": "https://localhost:8080/"
        },
        "id": "AASUQJbESKh9",
        "outputId": "0a6b1449-a6b3-4176-d016-b9bbd9208ac7"
      },
      "execution_count": null,
      "outputs": [
        {
          "output_type": "execute_result",
          "data": {
            "text/plain": [
              "(OrderedDict([('weight', tensor([0.4996])), ('bias', tensor([0.3006]))]),\n",
              " OrderedDict([('weight', tensor([0.4996])), ('bias', tensor([0.3006]))]))"
            ]
          },
          "metadata": {},
          "execution_count": 24
        }
      ]
    },
    {
      "cell_type": "code",
      "source": [
        "loaded_model_preds = loaded_model(X_test)\n",
        "model_preds = model(X_test)"
      ],
      "metadata": {
        "id": "4i_X39xVSKsd"
      },
      "execution_count": null,
      "outputs": []
    },
    {
      "cell_type": "code",
      "source": [
        "loaded_model_preds == model_preds"
      ],
      "metadata": {
        "colab": {
          "base_uri": "https://localhost:8080/"
        },
        "id": "4UnwFchBSKxy",
        "outputId": "21b8fc34-a113-4b82-9a71-051d17744652"
      },
      "execution_count": null,
      "outputs": [
        {
          "output_type": "execute_result",
          "data": {
            "text/plain": [
              "tensor([True, True, True, True, True, True, True, True, True, True])"
            ]
          },
          "metadata": {},
          "execution_count": 27
        }
      ]
    },
    {
      "cell_type": "code",
      "source": [],
      "metadata": {
        "id": "C4EqE5QqSK19"
      },
      "execution_count": null,
      "outputs": []
    },
    {
      "cell_type": "code",
      "source": [],
      "metadata": {
        "id": "QupHfaoqSK6A"
      },
      "execution_count": null,
      "outputs": []
    },
    {
      "cell_type": "code",
      "source": [],
      "metadata": {
        "id": "um4wBiI_SK9q"
      },
      "execution_count": null,
      "outputs": []
    },
    {
      "cell_type": "code",
      "source": [],
      "metadata": {
        "id": "kC9n9PkfSLBE"
      },
      "execution_count": null,
      "outputs": []
    },
    {
      "cell_type": "code",
      "source": [],
      "metadata": {
        "id": "XT11JVhaSLEq"
      },
      "execution_count": null,
      "outputs": []
    },
    {
      "cell_type": "code",
      "source": [],
      "metadata": {
        "id": "WIgz1lBFSLH3"
      },
      "execution_count": null,
      "outputs": []
    }
  ]
}